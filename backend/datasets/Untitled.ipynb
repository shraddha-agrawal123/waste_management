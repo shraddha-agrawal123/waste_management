{
 "cells": [
  {
   "cell_type": "code",
   "execution_count": 1,
   "id": "2fb49c1f-70d7-4eae-8fa2-97f3a40dc7a4",
   "metadata": {},
   "outputs": [],
   "source": [
    "import pandas as pd\n",
    "\n",
    "# Load the soil dataset\n",
    "soil_data = pd.read_csv('soil_nutrient.csv')\n",
    "\n",
    "# Define the best nutrient for each soil type\n",
    "soil_data['best_nutrient'] = soil_data.iloc[:, 1:].idxmax(axis=1)\n",
    "\n",
    "# Save the updated dataset\n",
    "soil_data.to_csv('soil_nutrient_with_best.csv', index=False)"
   ]
  },
  {
   "cell_type": "code",
   "execution_count": null,
   "id": "8fd99404-7d22-43f8-906e-94c757f24818",
   "metadata": {},
   "outputs": [],
   "source": []
  }
 ],
 "metadata": {
  "kernelspec": {
   "display_name": "Python 3 (ipykernel)",
   "language": "python",
   "name": "python3"
  },
  "language_info": {
   "codemirror_mode": {
    "name": "ipython",
    "version": 3
   },
   "file_extension": ".py",
   "mimetype": "text/x-python",
   "name": "python",
   "nbconvert_exporter": "python",
   "pygments_lexer": "ipython3",
   "version": "3.12.7"
  }
 },
 "nbformat": 4,
 "nbformat_minor": 5
}
